{
 "cells": [
  {
   "cell_type": "markdown",
   "metadata": {},
   "source": [
    "# Trillo API\n",
    "\n",
    "## Authenication\n",
    "- You will need to create a api key and api token from [this website](https://trello.com/app-key).\n",
    "- save in config.py\n",
    "    \n",
    "## Helpful Links\n",
    "- [Using the Trello API Documentation](http://www.trello.org/help.html)\n",
    "- [Trello API Introduction](https://developer.atlassian.com/cloud/trello/guides/rest-api/api-introduction/)"
   ]
  },
  {
   "cell_type": "markdown",
   "metadata": {},
   "source": [
    "### Libraries"
   ]
  },
  {
   "cell_type": "code",
   "execution_count": 1,
   "metadata": {},
   "outputs": [],
   "source": [
    "import config\n",
    "import requests\n",
    "import json\n",
    "import pandas as pd\n",
    "from google.cloud import bigquery\n",
    "import pandas_gbq\n",
    "import os"
   ]
  },
  {
   "cell_type": "code",
   "execution_count": 2,
   "metadata": {},
   "outputs": [],
   "source": [
    "os.environ[\"GOOGLE_APPLICATION_CREDENTIALS\"] = r'C:\\Users\\Nicholas\\Desktop\\Python\\trillo-api\\My Project-credentials.json'\n",
    "client = bigquery.Client()"
   ]
  },
  {
   "cell_type": "markdown",
   "metadata": {},
   "source": [
    "## See Members"
   ]
  },
  {
   "cell_type": "code",
   "execution_count": 9,
   "metadata": {},
   "outputs": [],
   "source": [
    "get_member_url = 'https://api.trello.com/1/members/me/'\n",
    "member_json = []\n",
    "auth = {'key': config.api_key,'token':config.api_token}\n",
    "\n",
    "r = requests.get(url=get_member_url,params=auth)\n",
    "member_json.append(json.loads(r.text))"
   ]
  },
  {
   "cell_type": "code",
   "execution_count": 10,
   "metadata": {
    "scrolled": true
   },
   "outputs": [
    {
     "data": {
      "text/plain": [
       "[{'id': '5e9c70a931b3058017fb8098',\n",
       "  'bio': '',\n",
       "  'bioData': None,\n",
       "  'confirmed': True,\n",
       "  'memberType': 'normal',\n",
       "  'username': 'nicholasdrake11',\n",
       "  'aaId': None,\n",
       "  'activityBlocked': False,\n",
       "  'avatarHash': None,\n",
       "  'avatarUrl': None,\n",
       "  'fullName': 'Nicholas Drake',\n",
       "  'idEnterprise': None,\n",
       "  'idEnterprisesDeactivated': [],\n",
       "  'idMemberReferrer': None,\n",
       "  'idPremOrgsAdmin': [],\n",
       "  'initials': 'ND',\n",
       "  'nonPublic': {},\n",
       "  'nonPublicAvailable': False,\n",
       "  'products': [],\n",
       "  'url': 'https://trello.com/nicholasdrake11',\n",
       "  'status': 'disconnected',\n",
       "  'aaEmail': None,\n",
       "  'aaEnrolledDate': None,\n",
       "  'avatarSource': 'none',\n",
       "  'credentialsRemovedCount': 0,\n",
       "  'email': 'nicholasdrake6@gmail.com',\n",
       "  'gravatarHash': 'dbbda6404e40727ae8c077be1971fc10',\n",
       "  'idBoards': ['5e9c70bbfb787260a043dd07',\n",
       "   '5e9c70fb099f48447bec0a4a',\n",
       "   '5e8e1124fc683a1f38bcac39'],\n",
       "  'idOrganizations': ['5e9c70c4ba818732e66affcb', '5e8e11060350d829d5582a56'],\n",
       "  'idEnterprisesAdmin': [],\n",
       "  'loginTypes': ['google'],\n",
       "  'marketingOptIn': {'optedIn': True, 'date': '2020-04-19T15:39:22.918Z'},\n",
       "  'messagesDismissed': [{'_id': '5e9c711bbaf07369181137ba',\n",
       "    'name': 'team-join-cta-banner-5e9c70c4ba818732e66affcb',\n",
       "    'count': 3,\n",
       "    'lastDismissed': '2020-04-19T15:41:25.917Z'},\n",
       "   {'_id': '5ea9682c2c811e32c03faa36',\n",
       "    'name': 'team-join-cta-banner-5e8e11060350d829d5582a56',\n",
       "    'count': 1,\n",
       "    'lastDismissed': '2020-04-29T11:42:36.650Z'}],\n",
       "  'oneTimeMessagesDismissed': ['sent-possible-new-signup-event',\n",
       "   'create-first-board',\n",
       "   'close-menu-of-first-board'],\n",
       "  'prefs': {'privacy': {'fullName': 'public', 'avatar': 'public'},\n",
       "   'sendSummaries': True,\n",
       "   'minutesBetweenSummaries': 60,\n",
       "   'minutesBeforeDeadlineToNotify': 1440,\n",
       "   'colorBlind': False,\n",
       "   'locale': 'en-US'},\n",
       "  'trophies': [],\n",
       "  'uploadedAvatarHash': None,\n",
       "  'uploadedAvatarUrl': None,\n",
       "  'premiumFeatures': [],\n",
       "  'isAaMastered': False,\n",
       "  'ixUpdate': '29',\n",
       "  'limits': {'boards': {'totalPerMember': {'status': 'ok',\n",
       "     'disableAt': 4500,\n",
       "     'warnAt': 4050}},\n",
       "   'orgs': {'totalPerMember': {'status': 'ok',\n",
       "     'disableAt': 850,\n",
       "     'warnAt': 765}}}}]"
      ]
     },
     "execution_count": 10,
     "metadata": {},
     "output_type": "execute_result"
    }
   ],
   "source": [
    "member_json"
   ]
  },
  {
   "cell_type": "code",
   "execution_count": 12,
   "metadata": {},
   "outputs": [
    {
     "data": {
      "text/plain": [
       "{'id': '5e9c70a931b3058017fb8098',\n",
       " 'bio': '',\n",
       " 'bioData': None,\n",
       " 'confirmed': True,\n",
       " 'memberType': 'normal',\n",
       " 'username': 'nicholasdrake11',\n",
       " 'aaId': None,\n",
       " 'activityBlocked': False,\n",
       " 'avatarHash': None,\n",
       " 'avatarUrl': None,\n",
       " 'fullName': 'Nicholas Drake',\n",
       " 'idEnterprise': None,\n",
       " 'idEnterprisesDeactivated': [],\n",
       " 'idMemberReferrer': None,\n",
       " 'idPremOrgsAdmin': [],\n",
       " 'initials': 'ND',\n",
       " 'nonPublic': {},\n",
       " 'nonPublicAvailable': False,\n",
       " 'products': [],\n",
       " 'url': 'https://trello.com/nicholasdrake11',\n",
       " 'status': 'disconnected',\n",
       " 'aaEmail': None,\n",
       " 'aaEnrolledDate': None,\n",
       " 'avatarSource': 'none',\n",
       " 'credentialsRemovedCount': 0,\n",
       " 'email': 'nicholasdrake6@gmail.com',\n",
       " 'gravatarHash': 'dbbda6404e40727ae8c077be1971fc10',\n",
       " 'idBoards': ['5e9c70bbfb787260a043dd07',\n",
       "  '5e9c70fb099f48447bec0a4a',\n",
       "  '5e8e1124fc683a1f38bcac39'],\n",
       " 'idOrganizations': ['5e9c70c4ba818732e66affcb', '5e8e11060350d829d5582a56'],\n",
       " 'idEnterprisesAdmin': [],\n",
       " 'loginTypes': ['google'],\n",
       " 'marketingOptIn': {'optedIn': True, 'date': '2020-04-19T15:39:22.918Z'},\n",
       " 'messagesDismissed': [{'_id': '5e9c711bbaf07369181137ba',\n",
       "   'name': 'team-join-cta-banner-5e9c70c4ba818732e66affcb',\n",
       "   'count': 3,\n",
       "   'lastDismissed': '2020-04-19T15:41:25.917Z'},\n",
       "  {'_id': '5ea9682c2c811e32c03faa36',\n",
       "   'name': 'team-join-cta-banner-5e8e11060350d829d5582a56',\n",
       "   'count': 1,\n",
       "   'lastDismissed': '2020-04-29T11:42:36.650Z'}],\n",
       " 'oneTimeMessagesDismissed': ['sent-possible-new-signup-event',\n",
       "  'create-first-board',\n",
       "  'close-menu-of-first-board'],\n",
       " 'prefs': {'privacy': {'fullName': 'public', 'avatar': 'public'},\n",
       "  'sendSummaries': True,\n",
       "  'minutesBetweenSummaries': 60,\n",
       "  'minutesBeforeDeadlineToNotify': 1440,\n",
       "  'colorBlind': False,\n",
       "  'locale': 'en-US'},\n",
       " 'trophies': [],\n",
       " 'uploadedAvatarHash': None,\n",
       " 'uploadedAvatarUrl': None,\n",
       " 'premiumFeatures': [],\n",
       " 'isAaMastered': False,\n",
       " 'ixUpdate': '29',\n",
       " 'limits': {'boards': {'totalPerMember': {'status': 'ok',\n",
       "    'disableAt': 4500,\n",
       "    'warnAt': 4050}},\n",
       "  'orgs': {'totalPerMember': {'status': 'ok',\n",
       "    'disableAt': 850,\n",
       "    'warnAt': 765}}}}"
      ]
     },
     "execution_count": 12,
     "metadata": {},
     "output_type": "execute_result"
    }
   ],
   "source": [
    "member_json[0]"
   ]
  },
  {
   "cell_type": "code",
   "execution_count": 13,
   "metadata": {},
   "outputs": [
    {
     "data": {
      "text/plain": [
       "['5e9c70bbfb787260a043dd07',\n",
       " '5e9c70fb099f48447bec0a4a',\n",
       " '5e8e1124fc683a1f38bcac39']"
      ]
     },
     "execution_count": 13,
     "metadata": {},
     "output_type": "execute_result"
    }
   ],
   "source": [
    "# Board IDs\n",
    "board_id_ls = member_json[0]['idBoards']\n",
    "board_id_ls"
   ]
  },
  {
   "cell_type": "code",
   "execution_count": null,
   "metadata": {},
   "outputs": [],
   "source": []
  },
  {
   "cell_type": "code",
   "execution_count": null,
   "metadata": {},
   "outputs": [],
   "source": []
  },
  {
   "cell_type": "markdown",
   "metadata": {},
   "source": [
    "## Get Memberships"
   ]
  },
  {
   "cell_type": "code",
   "execution_count": 61,
   "metadata": {},
   "outputs": [],
   "source": [
    "membership_json = []\n",
    "for id in board_id_ls:\n",
    "    get_board_url = 'https://api.trello.com/1/boards/{}/memberships'.format(id)\n",
    "    auth = {'key': config.api_key,'token':config.api_token}\n",
    "\n",
    "    response = requests.get(url=get_board_url,params=auth)\n",
    "    membership_json.extend(json.loads(response.text))"
   ]
  },
  {
   "cell_type": "code",
   "execution_count": 71,
   "metadata": {},
   "outputs": [],
   "source": [
    "membership_id = []\n",
    "\n",
    "for i in range(len(membership_json)):\n",
    "    membership_id.append(membership_json[i]['idMember'])"
   ]
  },
  {
   "cell_type": "code",
   "execution_count": 80,
   "metadata": {},
   "outputs": [
    {
     "data": {
      "text/plain": [
       "['5e9c70a931b3058017fb8098',\n",
       " '5c35115e4ddcfc531057f590',\n",
       " '5ea820c963ffa853529bb99d',\n",
       " '5e5419e9fa1097173af7e0dd']"
      ]
     },
     "execution_count": 80,
     "metadata": {},
     "output_type": "execute_result"
    }
   ],
   "source": [
    "# Create a dictionary, using the List items as keys. Dictionaries cannot have duplicate keys.\n",
    "membership_id = list(dict.fromkeys(membership_id))\n",
    "# convert back into a list\n",
    "membership_id = list(dict.fromkeys(membership_id))\n",
    "membership_id"
   ]
  },
  {
   "cell_type": "code",
   "execution_count": 92,
   "metadata": {},
   "outputs": [],
   "source": [
    "get_member_json = []\n",
    "for i in membership_id:\n",
    "    get_member_url = 'https://api.trello.com/1/members/{}'.format(i)\n",
    "    auth = {'key': config.api_key,'token':config.api_token}\n",
    "\n",
    "    r = requests.get(url=get_member_url,params=auth)\n",
    "    get_member_json.append(json.loads(r.text))"
   ]
  },
  {
   "cell_type": "code",
   "execution_count": 93,
   "metadata": {},
   "outputs": [
    {
     "data": {
      "text/plain": [
       "[{'id': '5e9c70a931b3058017fb8098',\n",
       "  'bio': '',\n",
       "  'bioData': None,\n",
       "  'confirmed': True,\n",
       "  'memberType': 'normal',\n",
       "  'username': 'nicholasdrake11',\n",
       "  'aaId': None,\n",
       "  'activityBlocked': False,\n",
       "  'avatarHash': None,\n",
       "  'avatarUrl': None,\n",
       "  'fullName': 'Nicholas Drake',\n",
       "  'idEnterprise': None,\n",
       "  'idEnterprisesDeactivated': [],\n",
       "  'idMemberReferrer': None,\n",
       "  'idPremOrgsAdmin': [],\n",
       "  'initials': 'ND',\n",
       "  'nonPublic': {},\n",
       "  'nonPublicAvailable': False,\n",
       "  'products': [],\n",
       "  'url': 'https://trello.com/nicholasdrake11',\n",
       "  'status': 'disconnected',\n",
       "  'aaEmail': None,\n",
       "  'aaEnrolledDate': None,\n",
       "  'avatarSource': 'none',\n",
       "  'credentialsRemovedCount': 0,\n",
       "  'email': 'nicholasdrake6@gmail.com',\n",
       "  'gravatarHash': 'dbbda6404e40727ae8c077be1971fc10',\n",
       "  'idBoards': ['5e9c70bbfb787260a043dd07',\n",
       "   '5e9c70fb099f48447bec0a4a',\n",
       "   '5e8e1124fc683a1f38bcac39'],\n",
       "  'idOrganizations': ['5e9c70c4ba818732e66affcb', '5e8e11060350d829d5582a56'],\n",
       "  'idEnterprisesAdmin': [],\n",
       "  'loginTypes': ['google'],\n",
       "  'marketingOptIn': {'optedIn': True, 'date': '2020-04-19T15:39:22.918Z'},\n",
       "  'messagesDismissed': [{'_id': '5e9c711bbaf07369181137ba',\n",
       "    'name': 'team-join-cta-banner-5e9c70c4ba818732e66affcb',\n",
       "    'count': 3,\n",
       "    'lastDismissed': '2020-04-19T15:41:25.917Z'},\n",
       "   {'_id': '5ea9682c2c811e32c03faa36',\n",
       "    'name': 'team-join-cta-banner-5e8e11060350d829d5582a56',\n",
       "    'count': 1,\n",
       "    'lastDismissed': '2020-04-29T11:42:36.650Z'}],\n",
       "  'oneTimeMessagesDismissed': ['sent-possible-new-signup-event',\n",
       "   'create-first-board',\n",
       "   'close-menu-of-first-board'],\n",
       "  'prefs': {'privacy': {'fullName': 'public', 'avatar': 'public'},\n",
       "   'sendSummaries': True,\n",
       "   'minutesBetweenSummaries': 60,\n",
       "   'minutesBeforeDeadlineToNotify': 1440,\n",
       "   'colorBlind': False,\n",
       "   'locale': 'en-US'},\n",
       "  'trophies': [],\n",
       "  'uploadedAvatarHash': None,\n",
       "  'uploadedAvatarUrl': None,\n",
       "  'premiumFeatures': [],\n",
       "  'isAaMastered': False,\n",
       "  'ixUpdate': '31',\n",
       "  'limits': {'boards': {'totalPerMember': {'status': 'ok',\n",
       "     'disableAt': 4500,\n",
       "     'warnAt': 4050}},\n",
       "   'orgs': {'totalPerMember': {'status': 'ok',\n",
       "     'disableAt': 850,\n",
       "     'warnAt': 765}}}},\n",
       " {'id': '5c35115e4ddcfc531057f590',\n",
       "  'bio': '',\n",
       "  'bioData': None,\n",
       "  'confirmed': True,\n",
       "  'memberType': 'normal',\n",
       "  'username': 'alexmendoza16',\n",
       "  'aaId': '5d13f36e1e063b0bcd710c79',\n",
       "  'activityBlocked': False,\n",
       "  'avatarHash': None,\n",
       "  'avatarUrl': None,\n",
       "  'fullName': 'Alex Mendoza',\n",
       "  'idEnterprise': None,\n",
       "  'idEnterprisesDeactivated': None,\n",
       "  'idMemberReferrer': None,\n",
       "  'idPremOrgsAdmin': [],\n",
       "  'initials': 'AM',\n",
       "  'nonPublic': {},\n",
       "  'nonPublicAvailable': True,\n",
       "  'products': [],\n",
       "  'url': 'https://trello.com/alexmendoza16',\n",
       "  'status': 'disconnected',\n",
       "  'aaEmail': None,\n",
       "  'aaEnrolledDate': None,\n",
       "  'avatarSource': None,\n",
       "  'credentialsRemovedCount': None,\n",
       "  'email': None,\n",
       "  'gravatarHash': None,\n",
       "  'idEnterprisesAdmin': [],\n",
       "  'loginTypes': None,\n",
       "  'marketingOptIn': None,\n",
       "  'messagesDismissed': None,\n",
       "  'oneTimeMessagesDismissed': None,\n",
       "  'prefs': None,\n",
       "  'trophies': [],\n",
       "  'uploadedAvatarHash': None,\n",
       "  'uploadedAvatarUrl': None,\n",
       "  'premiumFeatures': [],\n",
       "  'isAaMastered': None,\n",
       "  'ixUpdate': '246',\n",
       "  'limits': {'boards': {'totalPerMember': {'status': 'ok',\n",
       "     'disableAt': 4500,\n",
       "     'warnAt': 4050}},\n",
       "   'orgs': {'totalPerMember': {'status': 'ok',\n",
       "     'disableAt': 850,\n",
       "     'warnAt': 765}}},\n",
       "  'idBoards': ['5e9c70fb099f48447bec0a4a', '5eb479780926aa8767f1aebc'],\n",
       "  'idOrganizations': ['5e8e11060350d829d5582a56', '5e9c70c4ba818732e66affcb']},\n",
       " {'id': '5ea820c963ffa853529bb99d',\n",
       "  'bio': '',\n",
       "  'bioData': None,\n",
       "  'confirmed': True,\n",
       "  'memberType': 'normal',\n",
       "  'username': 'alexmendozajr',\n",
       "  'aaId': None,\n",
       "  'activityBlocked': False,\n",
       "  'avatarHash': None,\n",
       "  'avatarUrl': None,\n",
       "  'fullName': 'Alex Mendoza Jr',\n",
       "  'idEnterprise': None,\n",
       "  'idEnterprisesDeactivated': None,\n",
       "  'idMemberReferrer': None,\n",
       "  'idPremOrgsAdmin': [],\n",
       "  'initials': 'AJ',\n",
       "  'nonPublic': {},\n",
       "  'nonPublicAvailable': False,\n",
       "  'products': [],\n",
       "  'url': 'https://trello.com/alexmendozajr',\n",
       "  'status': 'disconnected',\n",
       "  'aaEmail': None,\n",
       "  'aaEnrolledDate': None,\n",
       "  'avatarSource': None,\n",
       "  'credentialsRemovedCount': None,\n",
       "  'email': None,\n",
       "  'gravatarHash': None,\n",
       "  'idEnterprisesAdmin': [],\n",
       "  'loginTypes': None,\n",
       "  'marketingOptIn': None,\n",
       "  'messagesDismissed': None,\n",
       "  'oneTimeMessagesDismissed': None,\n",
       "  'prefs': None,\n",
       "  'trophies': [],\n",
       "  'uploadedAvatarHash': None,\n",
       "  'uploadedAvatarUrl': None,\n",
       "  'premiumFeatures': [],\n",
       "  'isAaMastered': None,\n",
       "  'ixUpdate': '20',\n",
       "  'limits': {'boards': {'totalPerMember': {'status': 'ok',\n",
       "     'disableAt': 4500,\n",
       "     'warnAt': 4050}},\n",
       "   'orgs': {'totalPerMember': {'status': 'ok',\n",
       "     'disableAt': 850,\n",
       "     'warnAt': 765}}},\n",
       "  'idBoards': ['5e8e1124fc683a1f38bcac39', '5e9c70fb099f48447bec0a4a'],\n",
       "  'idOrganizations': ['5e8e11060350d829d5582a56', '5e9c70c4ba818732e66affcb']},\n",
       " {'id': '5e5419e9fa1097173af7e0dd',\n",
       "  'bio': '',\n",
       "  'bioData': None,\n",
       "  'confirmed': True,\n",
       "  'memberType': 'normal',\n",
       "  'username': 'charliesanders11',\n",
       "  'aaId': '70121:cc4c5162-2963-4665-9310-2a9f7140f498',\n",
       "  'activityBlocked': False,\n",
       "  'avatarHash': None,\n",
       "  'avatarUrl': None,\n",
       "  'fullName': 'charlie.sanders',\n",
       "  'idEnterprise': None,\n",
       "  'idEnterprisesDeactivated': None,\n",
       "  'idMemberReferrer': None,\n",
       "  'idPremOrgsAdmin': [],\n",
       "  'initials': 'C',\n",
       "  'nonPublic': {},\n",
       "  'nonPublicAvailable': True,\n",
       "  'products': [],\n",
       "  'url': 'https://trello.com/charliesanders11',\n",
       "  'status': 'disconnected',\n",
       "  'aaEmail': None,\n",
       "  'aaEnrolledDate': None,\n",
       "  'avatarSource': None,\n",
       "  'credentialsRemovedCount': None,\n",
       "  'email': None,\n",
       "  'gravatarHash': None,\n",
       "  'idEnterprisesAdmin': [],\n",
       "  'loginTypes': None,\n",
       "  'marketingOptIn': None,\n",
       "  'messagesDismissed': None,\n",
       "  'oneTimeMessagesDismissed': None,\n",
       "  'prefs': None,\n",
       "  'trophies': [],\n",
       "  'uploadedAvatarHash': None,\n",
       "  'uploadedAvatarUrl': None,\n",
       "  'premiumFeatures': [],\n",
       "  'isAaMastered': None,\n",
       "  'ixUpdate': '53',\n",
       "  'limits': {'boards': {'totalPerMember': {'status': 'ok',\n",
       "     'disableAt': 4500,\n",
       "     'warnAt': 4050}},\n",
       "   'orgs': {'totalPerMember': {'status': 'ok',\n",
       "     'disableAt': 850,\n",
       "     'warnAt': 765}}},\n",
       "  'idBoards': ['5e8e1124fc683a1f38bcac39', '5eb479780926aa8767f1aebc'],\n",
       "  'idOrganizations': ['5e8e11060350d829d5582a56']}]"
      ]
     },
     "execution_count": 93,
     "metadata": {},
     "output_type": "execute_result"
    }
   ],
   "source": [
    "get_member_json"
   ]
  },
  {
   "cell_type": "code",
   "execution_count": 95,
   "metadata": {},
   "outputs": [
    {
     "data": {
      "text/plain": [
       "4"
      ]
     },
     "execution_count": 95,
     "metadata": {},
     "output_type": "execute_result"
    }
   ],
   "source": [
    "len(get_member_json)"
   ]
  },
  {
   "cell_type": "code",
   "execution_count": 105,
   "metadata": {},
   "outputs": [
    {
     "data": {
      "text/plain": [
       "{'id': '5ea820c963ffa853529bb99d',\n",
       " 'bio': '',\n",
       " 'bioData': None,\n",
       " 'confirmed': True,\n",
       " 'memberType': 'normal',\n",
       " 'username': 'alexmendozajr',\n",
       " 'aaId': None,\n",
       " 'activityBlocked': False,\n",
       " 'avatarHash': None,\n",
       " 'avatarUrl': None,\n",
       " 'fullName': 'Alex Mendoza Jr',\n",
       " 'idEnterprise': None,\n",
       " 'idEnterprisesDeactivated': None,\n",
       " 'idMemberReferrer': None,\n",
       " 'idPremOrgsAdmin': [],\n",
       " 'initials': 'AJ',\n",
       " 'nonPublic': {},\n",
       " 'nonPublicAvailable': False,\n",
       " 'products': [],\n",
       " 'url': 'https://trello.com/alexmendozajr',\n",
       " 'status': 'disconnected',\n",
       " 'aaEmail': None,\n",
       " 'aaEnrolledDate': None,\n",
       " 'avatarSource': None,\n",
       " 'credentialsRemovedCount': None,\n",
       " 'email': None,\n",
       " 'gravatarHash': None,\n",
       " 'idEnterprisesAdmin': [],\n",
       " 'loginTypes': None,\n",
       " 'marketingOptIn': None,\n",
       " 'messagesDismissed': None,\n",
       " 'oneTimeMessagesDismissed': None,\n",
       " 'prefs': None,\n",
       " 'trophies': [],\n",
       " 'uploadedAvatarHash': None,\n",
       " 'uploadedAvatarUrl': None,\n",
       " 'premiumFeatures': [],\n",
       " 'isAaMastered': None,\n",
       " 'ixUpdate': '20',\n",
       " 'limits': {'boards': {'totalPerMember': {'status': 'ok',\n",
       "    'disableAt': 4500,\n",
       "    'warnAt': 4050}},\n",
       "  'orgs': {'totalPerMember': {'status': 'ok',\n",
       "    'disableAt': 850,\n",
       "    'warnAt': 765}}},\n",
       " 'idBoards': ['5e8e1124fc683a1f38bcac39', '5e9c70fb099f48447bec0a4a'],\n",
       " 'idOrganizations': ['5e8e11060350d829d5582a56', '5e9c70c4ba818732e66affcb']}"
      ]
     },
     "execution_count": 105,
     "metadata": {},
     "output_type": "execute_result"
    }
   ],
   "source": [
    "get_member_json[2]"
   ]
  },
  {
   "cell_type": "code",
   "execution_count": 99,
   "metadata": {},
   "outputs": [
    {
     "data": {
      "text/plain": [
       "'5e9c70a931b3058017fb8098'"
      ]
     },
     "execution_count": 99,
     "metadata": {},
     "output_type": "execute_result"
    }
   ],
   "source": [
    "get_member_json[0]['id']\n",
    "get_member_json[0]['username']\n",
    "get_member_json[0]['fullName']\n",
    "get_member_json[0]['email']"
   ]
  },
  {
   "cell_type": "code",
   "execution_count": 103,
   "metadata": {},
   "outputs": [],
   "source": [
    "member_ids = []\n",
    "member_user_names = []\n",
    "member_fullnames = []\n",
    "member_emails = []\n",
    "\n",
    "for i in range(len(get_member_json)):\n",
    "    member_ids.append(get_member_json[i]['id'])\n",
    "    member_user_names.append(get_member_json[i]['username'])\n",
    "    member_fullnames.append(get_member_json[i]['fullName'])\n",
    "    member_emails.append(get_member_json[i]['email'])"
   ]
  },
  {
   "cell_type": "code",
   "execution_count": 104,
   "metadata": {},
   "outputs": [
    {
     "data": {
      "text/html": [
       "<div>\n",
       "<style scoped>\n",
       "    .dataframe tbody tr th:only-of-type {\n",
       "        vertical-align: middle;\n",
       "    }\n",
       "\n",
       "    .dataframe tbody tr th {\n",
       "        vertical-align: top;\n",
       "    }\n",
       "\n",
       "    .dataframe thead th {\n",
       "        text-align: right;\n",
       "    }\n",
       "</style>\n",
       "<table border=\"1\" class=\"dataframe\">\n",
       "  <thead>\n",
       "    <tr style=\"text-align: right;\">\n",
       "      <th></th>\n",
       "      <th>member_id</th>\n",
       "      <th>member_username</th>\n",
       "      <th>member_fullname</th>\n",
       "      <th>member_email</th>\n",
       "    </tr>\n",
       "  </thead>\n",
       "  <tbody>\n",
       "    <tr>\n",
       "      <th>0</th>\n",
       "      <td>5e9c70a931b3058017fb8098</td>\n",
       "      <td>nicholasdrake11</td>\n",
       "      <td>Nicholas Drake</td>\n",
       "      <td>nicholasdrake6@gmail.com</td>\n",
       "    </tr>\n",
       "    <tr>\n",
       "      <th>1</th>\n",
       "      <td>5c35115e4ddcfc531057f590</td>\n",
       "      <td>alexmendoza16</td>\n",
       "      <td>Alex Mendoza</td>\n",
       "      <td>None</td>\n",
       "    </tr>\n",
       "    <tr>\n",
       "      <th>2</th>\n",
       "      <td>5ea820c963ffa853529bb99d</td>\n",
       "      <td>alexmendozajr</td>\n",
       "      <td>Alex Mendoza Jr</td>\n",
       "      <td>None</td>\n",
       "    </tr>\n",
       "    <tr>\n",
       "      <th>3</th>\n",
       "      <td>5e5419e9fa1097173af7e0dd</td>\n",
       "      <td>charliesanders11</td>\n",
       "      <td>charlie.sanders</td>\n",
       "      <td>None</td>\n",
       "    </tr>\n",
       "  </tbody>\n",
       "</table>\n",
       "</div>"
      ],
      "text/plain": [
       "                  member_id   member_username  member_fullname  \\\n",
       "0  5e9c70a931b3058017fb8098   nicholasdrake11   Nicholas Drake   \n",
       "1  5c35115e4ddcfc531057f590     alexmendoza16     Alex Mendoza   \n",
       "2  5ea820c963ffa853529bb99d     alexmendozajr  Alex Mendoza Jr   \n",
       "3  5e5419e9fa1097173af7e0dd  charliesanders11  charlie.sanders   \n",
       "\n",
       "               member_email  \n",
       "0  nicholasdrake6@gmail.com  \n",
       "1                      None  \n",
       "2                      None  \n",
       "3                      None  "
      ]
     },
     "execution_count": 104,
     "metadata": {},
     "output_type": "execute_result"
    }
   ],
   "source": [
    "m_data = {'member_id': member_ids, 'member_username': member_user_names, 'member_fullname': member_fullnames,\n",
    "         'member_email': member_emails}\n",
    "\n",
    "member_df = pd.DataFrame(m_data)\n",
    "member_df"
   ]
  },
  {
   "cell_type": "markdown",
   "metadata": {},
   "source": [
    "## 1. Find Name of Lists"
   ]
  },
  {
   "cell_type": "code",
   "execution_count": 26,
   "metadata": {},
   "outputs": [],
   "source": [
    "f_json = []\n",
    "for id in board_id_ls:\n",
    "    get_board_url = 'https://api.trello.com/1/boards/{}/lists'.format(id)\n",
    "    auth = {'key': config.api_key,'token':config.api_token}\n",
    "\n",
    "    response = requests.get(url=get_board_url,params=auth)\n",
    "    f_json.extend(json.loads(response.text))"
   ]
  },
  {
   "cell_type": "code",
   "execution_count": 27,
   "metadata": {},
   "outputs": [
    {
     "data": {
      "text/plain": [
       "[{'id': '5e9c70bbf30bfa057410e048',\n",
       "  'name': 'Things To Do',\n",
       "  'closed': False,\n",
       "  'pos': 1,\n",
       "  'softLimit': None,\n",
       "  'idBoard': '5e9c70bbfb787260a043dd07',\n",
       "  'subscribed': False},\n",
       " {'id': '5e9c70bb1bfdd249bd23580c',\n",
       "  'name': 'Doing',\n",
       "  'closed': False,\n",
       "  'pos': 2,\n",
       "  'softLimit': None,\n",
       "  'idBoard': '5e9c70bbfb787260a043dd07',\n",
       "  'subscribed': False},\n",
       " {'id': '5e9c70bb798eaa37d726c948',\n",
       "  'name': 'Done',\n",
       "  'closed': False,\n",
       "  'pos': 3,\n",
       "  'softLimit': None,\n",
       "  'idBoard': '5e9c70bbfb787260a043dd07',\n",
       "  'subscribed': False},\n",
       " {'id': '5e9cbe1d4e95690bb4f91cea',\n",
       "  'name': 'Ingredients to Make Salsa',\n",
       "  'closed': False,\n",
       "  'pos': 65535,\n",
       "  'softLimit': None,\n",
       "  'idBoard': '5e9c70fb099f48447bec0a4a',\n",
       "  'subscribed': False},\n",
       " {'id': '5e8e114dce206b4302e04bb0',\n",
       "  'name': 'Learning To-Do List',\n",
       "  'closed': False,\n",
       "  'pos': 65535,\n",
       "  'softLimit': None,\n",
       "  'idBoard': '5e8e1124fc683a1f38bcac39',\n",
       "  'subscribed': False},\n",
       " {'id': '5e8e115ae34c263db977807a',\n",
       "  'name': 'Certifications',\n",
       "  'closed': False,\n",
       "  'pos': 131071,\n",
       "  'softLimit': None,\n",
       "  'idBoard': '5e8e1124fc683a1f38bcac39',\n",
       "  'subscribed': False},\n",
       " {'id': '5e8e11746bdc041bbac205e3',\n",
       "  'name': 'Cool Books',\n",
       "  'closed': False,\n",
       "  'pos': 196607,\n",
       "  'softLimit': None,\n",
       "  'idBoard': '5e8e1124fc683a1f38bcac39',\n",
       "  'subscribed': False},\n",
       " {'id': '5ea837c108d79c7459b0cc30',\n",
       "  'name': 'Area51',\n",
       "  'closed': False,\n",
       "  'pos': 262143,\n",
       "  'softLimit': None,\n",
       "  'idBoard': '5e8e1124fc683a1f38bcac39',\n",
       "  'subscribed': False}]"
      ]
     },
     "execution_count": 27,
     "metadata": {},
     "output_type": "execute_result"
    }
   ],
   "source": [
    "f_json"
   ]
  },
  {
   "cell_type": "code",
   "execution_count": 30,
   "metadata": {},
   "outputs": [
    {
     "data": {
      "text/plain": [
       "7"
      ]
     },
     "execution_count": 30,
     "metadata": {},
     "output_type": "execute_result"
    }
   ],
   "source": [
    "len(f_json[0])"
   ]
  },
  {
   "cell_type": "code",
   "execution_count": 29,
   "metadata": {},
   "outputs": [
    {
     "data": {
      "text/plain": [
       "3"
      ]
     },
     "execution_count": 29,
     "metadata": {},
     "output_type": "execute_result"
    }
   ],
   "source": [
    "len(board_id_ls)"
   ]
  },
  {
   "cell_type": "code",
   "execution_count": 33,
   "metadata": {},
   "outputs": [],
   "source": [
    "# Board info\n",
    "l_ids = []\n",
    "l_names = []\n",
    "l_status = []\n",
    "b_ids =[]\n",
    "\n",
    "\n",
    "for i in range(len(f_json[0])):\n",
    "    try:\n",
    "        l_ids.append(f_json[i]['id'])\n",
    "        l_names.append(f_json[i]['name'])\n",
    "        l_status.append(f_json[i]['closed'])\n",
    "        b_ids.append(f_json[i]['idBoard'])\n",
    "    except IndexError:\n",
    "        pass"
   ]
  },
  {
   "cell_type": "code",
   "execution_count": 34,
   "metadata": {},
   "outputs": [
    {
     "data": {
      "text/html": [
       "<div>\n",
       "<style scoped>\n",
       "    .dataframe tbody tr th:only-of-type {\n",
       "        vertical-align: middle;\n",
       "    }\n",
       "\n",
       "    .dataframe tbody tr th {\n",
       "        vertical-align: top;\n",
       "    }\n",
       "\n",
       "    .dataframe thead th {\n",
       "        text-align: right;\n",
       "    }\n",
       "</style>\n",
       "<table border=\"1\" class=\"dataframe\">\n",
       "  <thead>\n",
       "    <tr style=\"text-align: right;\">\n",
       "      <th></th>\n",
       "      <th>list_id</th>\n",
       "      <th>list_name</th>\n",
       "      <th>list_closed</th>\n",
       "      <th>branch_id</th>\n",
       "    </tr>\n",
       "  </thead>\n",
       "  <tbody>\n",
       "    <tr>\n",
       "      <th>0</th>\n",
       "      <td>5e9c70bbf30bfa057410e048</td>\n",
       "      <td>Things To Do</td>\n",
       "      <td>False</td>\n",
       "      <td>5e9c70bbfb787260a043dd07</td>\n",
       "    </tr>\n",
       "    <tr>\n",
       "      <th>1</th>\n",
       "      <td>5e9c70bb1bfdd249bd23580c</td>\n",
       "      <td>Doing</td>\n",
       "      <td>False</td>\n",
       "      <td>5e9c70bbfb787260a043dd07</td>\n",
       "    </tr>\n",
       "    <tr>\n",
       "      <th>2</th>\n",
       "      <td>5e9c70bb798eaa37d726c948</td>\n",
       "      <td>Done</td>\n",
       "      <td>False</td>\n",
       "      <td>5e9c70bbfb787260a043dd07</td>\n",
       "    </tr>\n",
       "    <tr>\n",
       "      <th>3</th>\n",
       "      <td>5e9cbe1d4e95690bb4f91cea</td>\n",
       "      <td>Ingredients to Make Salsa</td>\n",
       "      <td>False</td>\n",
       "      <td>5e9c70fb099f48447bec0a4a</td>\n",
       "    </tr>\n",
       "    <tr>\n",
       "      <th>4</th>\n",
       "      <td>5e8e114dce206b4302e04bb0</td>\n",
       "      <td>Learning To-Do List</td>\n",
       "      <td>False</td>\n",
       "      <td>5e8e1124fc683a1f38bcac39</td>\n",
       "    </tr>\n",
       "    <tr>\n",
       "      <th>5</th>\n",
       "      <td>5e8e115ae34c263db977807a</td>\n",
       "      <td>Certifications</td>\n",
       "      <td>False</td>\n",
       "      <td>5e8e1124fc683a1f38bcac39</td>\n",
       "    </tr>\n",
       "    <tr>\n",
       "      <th>6</th>\n",
       "      <td>5e8e11746bdc041bbac205e3</td>\n",
       "      <td>Cool Books</td>\n",
       "      <td>False</td>\n",
       "      <td>5e8e1124fc683a1f38bcac39</td>\n",
       "    </tr>\n",
       "  </tbody>\n",
       "</table>\n",
       "</div>"
      ],
      "text/plain": [
       "                    list_id                  list_name  list_closed  \\\n",
       "0  5e9c70bbf30bfa057410e048               Things To Do        False   \n",
       "1  5e9c70bb1bfdd249bd23580c                      Doing        False   \n",
       "2  5e9c70bb798eaa37d726c948                       Done        False   \n",
       "3  5e9cbe1d4e95690bb4f91cea  Ingredients to Make Salsa        False   \n",
       "4  5e8e114dce206b4302e04bb0        Learning To-Do List        False   \n",
       "5  5e8e115ae34c263db977807a             Certifications        False   \n",
       "6  5e8e11746bdc041bbac205e3                 Cool Books        False   \n",
       "\n",
       "                  branch_id  \n",
       "0  5e9c70bbfb787260a043dd07  \n",
       "1  5e9c70bbfb787260a043dd07  \n",
       "2  5e9c70bbfb787260a043dd07  \n",
       "3  5e9c70fb099f48447bec0a4a  \n",
       "4  5e8e1124fc683a1f38bcac39  \n",
       "5  5e8e1124fc683a1f38bcac39  \n",
       "6  5e8e1124fc683a1f38bcac39  "
      ]
     },
     "execution_count": 34,
     "metadata": {},
     "output_type": "execute_result"
    }
   ],
   "source": [
    "d1 = {'list_id':l_ids, 'list_name':l_names, 'list_closed':l_status, 'branch_id':b_ids}\n",
    "df1 = pd.DataFrame(d1)\n",
    "df1"
   ]
  },
  {
   "cell_type": "markdown",
   "metadata": {},
   "source": [
    "## 2. Find Cards in List"
   ]
  },
  {
   "cell_type": "code",
   "execution_count": 35,
   "metadata": {},
   "outputs": [],
   "source": [
    "cards_json = []\n",
    "url = 'https://api.trello.com/1/lists/5e9cbe1d4e95690bb4f91cea/cards'\n",
    "auth = {'key': config.api_key,'token':config.api_token}\n",
    "\n",
    "response = requests.get(url=url,params=auth)\n",
    "cards_json.extend(json.loads(response.text))"
   ]
  },
  {
   "cell_type": "code",
   "execution_count": 58,
   "metadata": {},
   "outputs": [
    {
     "data": {
      "text/plain": [
       "{'id': '5e9cbe389a94fb8b1bac380e',\n",
       " 'checkItemStates': None,\n",
       " 'closed': False,\n",
       " 'dateLastActivity': '2020-04-26T13:02:31.409Z',\n",
       " 'desc': 'This is a test description',\n",
       " 'descData': {'emoji': {}},\n",
       " 'dueReminder': 1440,\n",
       " 'idBoard': '5e9c70fb099f48447bec0a4a',\n",
       " 'idList': '5e9cbe1d4e95690bb4f91cea',\n",
       " 'idMembersVoted': [],\n",
       " 'idShort': 1,\n",
       " 'idAttachmentCover': None,\n",
       " 'idLabels': ['5e9c70fb7669b225496ea8cd'],\n",
       " 'manualCoverAttachment': False,\n",
       " 'name': 'tomatos',\n",
       " 'pos': 65535,\n",
       " 'shortLink': 'FLAZ8vqz',\n",
       " 'isTemplate': False,\n",
       " 'badges': {'attachmentsByType': {'trello': {'board': 0, 'card': 0}},\n",
       "  'location': False,\n",
       "  'votes': 0,\n",
       "  'viewingMemberVoted': False,\n",
       "  'subscribed': False,\n",
       "  'fogbugz': '',\n",
       "  'checkItems': 0,\n",
       "  'checkItemsChecked': 0,\n",
       "  'checkItemsEarliestDue': None,\n",
       "  'comments': 0,\n",
       "  'attachments': 0,\n",
       "  'description': True,\n",
       "  'due': '2020-04-30T13:02:00.000Z',\n",
       "  'dueComplete': False},\n",
       " 'dueComplete': False,\n",
       " 'due': '2020-04-30T13:02:00.000Z',\n",
       " 'idChecklists': [],\n",
       " 'idMembers': ['5c35115e4ddcfc531057f590'],\n",
       " 'labels': [{'id': '5e9c70fb7669b225496ea8cd',\n",
       "   'idBoard': '5e9c70fb099f48447bec0a4a',\n",
       "   'name': 'tomatos',\n",
       "   'color': 'red'}],\n",
       " 'shortUrl': 'https://trello.com/c/FLAZ8vqz',\n",
       " 'subscribed': False,\n",
       " 'url': 'https://trello.com/c/FLAZ8vqz/1-tomatos',\n",
       " 'cover': {'idAttachment': None,\n",
       "  'color': None,\n",
       "  'idUploadedBackground': None,\n",
       "  'size': 'normal',\n",
       "  'brightness': 'light'}}"
      ]
     },
     "execution_count": 58,
     "metadata": {},
     "output_type": "execute_result"
    }
   ],
   "source": [
    "cards_json[0]"
   ]
  },
  {
   "cell_type": "code",
   "execution_count": 53,
   "metadata": {},
   "outputs": [
    {
     "data": {
      "text/plain": [
       "7"
      ]
     },
     "execution_count": 53,
     "metadata": {},
     "output_type": "execute_result"
    }
   ],
   "source": [
    "len(cards_json)"
   ]
  },
  {
   "cell_type": "code",
   "execution_count": 54,
   "metadata": {},
   "outputs": [],
   "source": [
    "card_names = []\n",
    "descs = []\n",
    "card_closed = []\n",
    "for i in range(len(cards_json)):\n",
    "    card_names.append(cards_json[i]['name'])\n",
    "    descs.append(cards_json[i]['desc'])\n",
    "    card_closed.append(cards_json[i]['closed'])"
   ]
  },
  {
   "cell_type": "code",
   "execution_count": 55,
   "metadata": {},
   "outputs": [
    {
     "data": {
      "text/html": [
       "<div>\n",
       "<style scoped>\n",
       "    .dataframe tbody tr th:only-of-type {\n",
       "        vertical-align: middle;\n",
       "    }\n",
       "\n",
       "    .dataframe tbody tr th {\n",
       "        vertical-align: top;\n",
       "    }\n",
       "\n",
       "    .dataframe thead th {\n",
       "        text-align: right;\n",
       "    }\n",
       "</style>\n",
       "<table border=\"1\" class=\"dataframe\">\n",
       "  <thead>\n",
       "    <tr style=\"text-align: right;\">\n",
       "      <th></th>\n",
       "      <th>card_name</th>\n",
       "      <th>description</th>\n",
       "      <th>card_closed</th>\n",
       "    </tr>\n",
       "  </thead>\n",
       "  <tbody>\n",
       "    <tr>\n",
       "      <th>0</th>\n",
       "      <td>tomatos</td>\n",
       "      <td>This is a test description</td>\n",
       "      <td>False</td>\n",
       "    </tr>\n",
       "    <tr>\n",
       "      <th>1</th>\n",
       "      <td>green chiles</td>\n",
       "      <td></td>\n",
       "      <td>False</td>\n",
       "    </tr>\n",
       "    <tr>\n",
       "      <th>2</th>\n",
       "      <td>fresh jalapeño</td>\n",
       "      <td></td>\n",
       "      <td>False</td>\n",
       "    </tr>\n",
       "    <tr>\n",
       "      <th>3</th>\n",
       "      <td>honey</td>\n",
       "      <td></td>\n",
       "      <td>False</td>\n",
       "    </tr>\n",
       "    <tr>\n",
       "      <th>4</th>\n",
       "      <td>onion</td>\n",
       "      <td></td>\n",
       "      <td>False</td>\n",
       "    </tr>\n",
       "    <tr>\n",
       "      <th>5</th>\n",
       "      <td>garlic</td>\n",
       "      <td></td>\n",
       "      <td>False</td>\n",
       "    </tr>\n",
       "    <tr>\n",
       "      <th>6</th>\n",
       "      <td>cilantro</td>\n",
       "      <td></td>\n",
       "      <td>False</td>\n",
       "    </tr>\n",
       "  </tbody>\n",
       "</table>\n",
       "</div>"
      ],
      "text/plain": [
       "        card_name                 description  card_closed\n",
       "0         tomatos  This is a test description        False\n",
       "1    green chiles                                    False\n",
       "2  fresh jalapeño                                    False\n",
       "3           honey                                    False\n",
       "4           onion                                    False\n",
       "5          garlic                                    False\n",
       "6        cilantro                                    False"
      ]
     },
     "execution_count": 55,
     "metadata": {},
     "output_type": "execute_result"
    }
   ],
   "source": [
    "d2 = {'card_name': card_names, 'description': descs, 'card_closed': card_closed}\n",
    "df2 = pd.DataFrame(d2)\n",
    "df2"
   ]
  },
  {
   "cell_type": "code",
   "execution_count": null,
   "metadata": {},
   "outputs": [],
   "source": []
  },
  {
   "cell_type": "code",
   "execution_count": null,
   "metadata": {},
   "outputs": [],
   "source": [
    "print('Loading data into GCP BigQuery')\n",
    "# Load into GCP BigQuery\n",
    "# Connect to Google Cloud API and upload dataframe\n",
    "destinatoin_table = 'tello.test_table'\n",
    "project_id = 'unicourt-api-272802'\n",
    "\n",
    "pandas_gbq.to_gbq(df1, destinatoin_table, project_id, if_exists='replace')\n",
    "print('Script is complete; check table for details.')"
   ]
  },
  {
   "cell_type": "code",
   "execution_count": null,
   "metadata": {},
   "outputs": [],
   "source": []
  },
  {
   "cell_type": "code",
   "execution_count": null,
   "metadata": {},
   "outputs": [],
   "source": []
  },
  {
   "cell_type": "code",
   "execution_count": null,
   "metadata": {},
   "outputs": [],
   "source": [
    "\n",
    "first_list = [1,2,3]\n",
    "second_list = [4,5,6]\n",
    "\n",
    "first_list.extend(second_list)"
   ]
  },
  {
   "cell_type": "code",
   "execution_count": null,
   "metadata": {},
   "outputs": [],
   "source": [
    "first_list"
   ]
  }
 ],
 "metadata": {
  "kernelspec": {
   "display_name": "Python 3",
   "language": "python",
   "name": "python3"
  },
  "language_info": {
   "codemirror_mode": {
    "name": "ipython",
    "version": 3
   },
   "file_extension": ".py",
   "mimetype": "text/x-python",
   "name": "python",
   "nbconvert_exporter": "python",
   "pygments_lexer": "ipython3",
   "version": "3.6.8"
  }
 },
 "nbformat": 4,
 "nbformat_minor": 2
}
